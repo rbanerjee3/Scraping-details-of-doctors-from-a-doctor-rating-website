{
 "cells": [
  {
   "cell_type": "markdown",
   "metadata": {},
   "source": [
    "# Scraping details of doctors from a doctor rating website"
   ]
  },
  {
   "cell_type": "markdown",
   "metadata": {},
   "source": [
    "## Motivation:"
   ]
  },
  {
   "cell_type": "markdown",
   "metadata": {},
   "source": [
    "After finishing my basics (Statistics, SQL and Python), I was quite excited to jump into the world of Machine Learning. Reading about the cool projects on GitHub every day motivated me more to start such things ASAP. So, as usual like others, I completed a MOOC on Machine Learning and started searching for a dataset to get my hands dirty. But, one fine day, I came across this [article](https://www.kdnuggets.com/2018/11/get-hired-as-data-scientist.html) on KDNuggets: **To get hired as a Data Scientist, don't follow the herd**. This article changed the way I looked at Data-Science projects and what attracted me the most in that article was the last point:\n",
    "\n",
    "_\"Do things that seem crazy. Everyone goes to the UCI repository, or uses some stock dataset (yawn) to build their project. Don’t do that. Learn how to use a web scraping library, or some under-appreciated API to build your own, custom dataset. Data is hard to come by, and companies often need to rely on their engineers to get it for them. Your goal should be to come across as the kind of data science-obsessed lunatic who will build your own goddamn dataset if that’s what it takes to get the job done.\"_\n",
    "\n",
    "We cannot use the concepts of statistics, databases or machine learning if we don’t have the required data. Thus, I started learning about web-scraping, and eventually began working on a research project at my Graduate School where my first task was to scrape data from a Doctor Rating Website in the US. So, here is my code which I used to accomplish my task."
   ]
  },
  {
   "cell_type": "markdown",
   "metadata": {},
   "source": [
    "## Overview:"
   ]
  },
  {
   "cell_type": "markdown",
   "metadata": {},
   "source": [
    "The code is designed to help us scrape data for all the doctors from a popular Doctor Rating website [RateMDs](https://www.ratemds.com). The doctors can be filtered based on specialty, City, Gender, whether verified or not and whether accepting patients or not. These filters need to be applied on the website and the corresponding URL needs to be entered as an input here and rest will be taken care of by the code.\n",
    "\n",
    "The details of the doctor obtained as an output includes:\n",
    "1. Name of the Doctor\n",
    "2. Specialty\n",
    "3. Star-Rating\n",
    "4. No. of Reviews"
   ]
  },
  {
   "cell_type": "markdown",
   "metadata": {},
   "source": [
    "I divided the code into two parts. The motive was to make this code as beginner-friendly as possible. The two parts are as follows:\n",
    "1. Scraping Data from a single page (I tried explained how exactly each detail of the doctor is scraped)\n",
    "2. Scraping Data from multiple pages (This involves creating loop for scraping pages and monitoring and controlling the loop rate)"
   ]
  },
  {
   "cell_type": "markdown",
   "metadata": {},
   "source": [
    "### 1st Part: Scraping data from a single page"
   ]
  },
  {
   "cell_type": "markdown",
   "metadata": {},
   "source": [
    "Importing the required libraries"
   ]
  },
  {
   "cell_type": "code",
   "execution_count": 1,
   "metadata": {},
   "outputs": [],
   "source": [
    "#Import Webscraping libraries\n",
    "from bs4 import BeautifulSoup\n",
    "from requests import get\n",
    "\n",
    "#Import Data structure libraries\n",
    "import pandas as pd\n",
    "from pandas import Series, DataFrame\n",
    "\n",
    "#Import libraries for controlling crawling rate\n",
    "from time import sleep, time\n",
    "from random import randint\n",
    "\n",
    "#Import library for clearing output\n",
    "from IPython.core.display import clear_output"
   ]
  },
  {
   "cell_type": "markdown",
   "metadata": {},
   "source": [
    "The data that I want to scrape are the details of doctors whose specialty is 'Family/G.P.s' and the city they live/practice in is 'New York'."
   ]
  },
  {
   "cell_type": "code",
   "execution_count": 2,
   "metadata": {},
   "outputs": [],
   "source": [
    "#Enter the url you need to scrape\n",
    "url='https://www.ratemds.com/best-doctors/ny/new-york/family-gp'"
   ]
  },
  {
   "cell_type": "code",
   "execution_count": 3,
   "metadata": {},
   "outputs": [
    {
     "data": {
      "text/plain": [
       "b'\\n<!DOCTYPE html>\\n<html lang=\"en\" ng-app=\"RateMds\" id=\"ng-app\">\\n<head>\\n<meta charset=\"utf-8\">\\n<meta http-equiv=\"X-UA-Compatible\" content=\"IE=edge\">\\n<meta name=\"viewport\" content=\"width=device-width, initial-scale=1, user-scalable=no\">\\n<link rel=\"apple-touch-icon\" sizes=\"57x57\" href=\"//www.ratemds.com/static/img/favicons/apple-touch-icon-57x57.495c70819b0f.png\">\\n<link rel=\"apple-touch-icon\" sizes=\"114x114\" href=\"//www.ratemds.com/static/img/favicons/apple-touch-icon-114x114.abcec11ee43c.png\">\\n<link rel=\"apple-touch-icon\" sizes=\"72x72\" href=\"//www.ratemds.com/static/img/favicons/apple-touch-icon-72x72.a21a57e92df8.png\">\\n<link rel=\"apple-touch-icon\" sizes=\"144x144\" href=\"//www.ratemds.com/static/img/favicons/apple-touch-icon-144x144.2fcfe644723c.png\">\\n<link rel=\"apple-touch-icon\" sizes=\"60x60\" href=\"//www.ratemds.com/static/img/favicons/apple-touch-icon-60x60.5dd1baf2b8ba.png\">\\n<link rel=\"apple-touch-icon\" sizes=\"120x120\" href=\"//www.ratemds.com/static/img/favicons/apple-touch-icon-120x120'"
      ]
     },
     "execution_count": 3,
     "metadata": {},
     "output_type": "execute_result"
    }
   ],
   "source": [
    "#use 'get' from requests library to obtain the HTML of the website's home page\n",
    "response=get(url)\n",
    "response.content[:1000]"
   ]
  },
  {
   "cell_type": "markdown",
   "metadata": {},
   "source": [
    "As we can see, the HTML data we extracted is quite messy. Let's improve the readability of the content by using the BeautifulSoup."
   ]
  },
  {
   "cell_type": "code",
   "execution_count": 4,
   "metadata": {},
   "outputs": [
    {
     "name": "stdout",
     "output_type": "stream",
     "text": [
      "<!DOCTYPE html>\n",
      "<html id=\"ng-app\" lang=\"en\" ng-app=\"RateMds\">\n",
      " <head>\n",
      "  <meta charset=\"utf-8\"/>\n",
      "  <meta content=\"IE=edge\" http-equiv=\"X-UA-Compatible\"/>\n",
      "  <meta content=\"width=device-width, initial-scale=1, user-scalable=no\" name=\"viewport\"/>\n",
      "  <link href=\"//www.ratemds.com/static/img/favicons/apple-touch-icon-57x57.495c70819b0f.png\" rel=\"apple-touch-icon\" sizes=\"57x57\"/>\n",
      "  <link href=\"//www.ratemds.com/static/img/favicons/apple-touch-icon-114x114.abcec11ee43c.png\" rel=\"apple-touch-icon\" sizes=\"114x114\"/>\n",
      "  <link href=\"//www.ratemds.com/static/img/favicons/apple-touch-icon-72x72.a21a57e92df8.png\" rel=\"apple-touch-icon\" sizes=\"72x72\"/>\n",
      "  <link href=\"//www.ratemds.com/static/img/favicons/apple-touch-icon-144x144.2fcfe644723c.png\" rel=\"apple-touch-icon\" sizes=\"144x144\"/>\n",
      "  <link href=\"//www.ratemds.com/static/img/favicons/apple-touch-icon-60x60.5dd1baf2b8ba.png\" rel=\"apple-touch-icon\" sizes=\"60x60\"/>\n",
      "  <link href=\"//www.ratemds.com/static/img/favicons/apple-touch-icon-120x120.e5b8c908f646\n"
     ]
    }
   ],
   "source": [
    "#Convert the above content into a more readable format\n",
    "soup=BeautifulSoup((response.content),\"lxml\")\n",
    "\n",
    "#prettify() makes the content more readable\n",
    "print(soup.prettify()[:1000]) "
   ]
  },
  {
   "cell_type": "markdown",
   "metadata": {},
   "source": [
    "Now, we need to search for the HTML part of the webpage which we need to scrape.\n",
    "For that, we need to identify the corresponding tag in the HTML and use the find() function over soup to get the required contents."
   ]
  },
  {
   "cell_type": "code",
   "execution_count": 5,
   "metadata": {},
   "outputs": [
    {
     "name": "stdout",
     "output_type": "stream",
     "text": [
      "<div id=\"doctor-list\">\n",
      " <div data-react-checksum=\"815957376\" data-reactid=\".2e42e0x76zs\">\n",
      "  <h2 class=\"subtitle heading-withsub\" data-reactid=\".2e42e0x76zs.0\">\n",
      "   <span data-reactid=\".2e42e0x76zs.0.0\">\n",
      "    The\n",
      "   </span>\n",
      "   <span data-reactid=\".2e42e0x76zs.0.1\">\n",
      "    Best Family Doctors / G.P.s in New York City, NY\n",
      "   </span>\n",
      "  </h2>\n",
      "  <a class=\"heading-sub\" data-reactid=\".2e42e0x76zs.1\" href=\"/specialties/family-gp/\">\n",
      "   <span data-reactid=\".2e42e0x76zs.1.0\">\n",
      "    What is a\n",
      "   </span>\n",
      "   <span data-reactid=\".2e42e0x76zs.1.1\">\n",
      "    Family Doctor / G.P.\n",
      "   </span>\n",
      "   <span data-reactid=\".2e42e0x76zs.1.2\">\n",
      "    ?\n",
      "   </span>\n",
      "  </a>\n",
      "  <div class=\"search-item doctor-profile\" data-reactid=\".2e42e0x76zs.3:$2074748\">\n",
      "   <img alt=\"Dr. Natan Schleider\" class=\"search-item-image\" data-reactid=\".2e42e0x76zs.3:$2074748.0\" height=\"100\" src=\"https://cdn1.ratemds.com/media/doctors/doctor/image/NatanSchleider.jpg_thumbs/v1_at_100x100.jpg\" width=\"100\"/>\n",
      "   <h2 class=\"search-item-doctor-name\" data-reactid=\".2e42e0x76zs.3:$2074748.1\">\n",
      "    <a class=\"search-item-doctor-link\" data-reactid=\".2e42e0x76zs.3:$2074748.1.0\" href=\"/doctor-ratings/20189/Dr-Natan-Schleider-New+York-NY.html\">\n",
      "     Dr. Natan Schleider\n",
      "    </a>\n",
      "   </h2>\n",
      "   <div class=\"search-item-specialty\" data-reactid=\".2e42e0x76zs.3:$2074748.3\">\n",
      "    <a data-reactid=\".2e42e0x76zs.3:$2074748.3.0\" href=\"/best-doctors/ny/new-york/family-gp/\">\n",
      "     Family Doctor / G.P.\n",
      "    </a>\n",
      "   </div>\n",
      "   <div data-reactid=\".2e42e0x76zs.3:$2074748.4\">\n",
      "    <span data-reactid=\".2e42e0x76zs.3:$2074748.4.0\">\n",
      "     <span class=\"star-rating\" data-reactid=\".2e42e0x76zs.3:$2074748.4.0.0\" title=\"4.91\">\n",
      "      <span class=\"stars\" data-reactid=\".2e42e0x76zs.3:$2074748.4.0.0.0\">\n",
      "       <span class=\"star selected\" data-reactid=\".2e42e0x76zs.3:$2074748.4.0.0.0.$5\">\n",
      "       </span>\n",
      "       <span class=\"star selected\" data-reactid=\".2e42e0x76zs.3:$2074748.4.0.0.0.$4\">\n",
      "       </span>\n",
      "       <span class=\"star selected\" data-reactid=\".2e42e0x76zs.3:$2074748.4.0.0.0.$3\">\n",
      "       \n"
     ]
    }
   ],
   "source": [
    "#Search for the tag under which all the doctor details are present\n",
    "summary=soup.find('div',{'id':'doctor-list'})\n",
    "print(summary.prettify()[:2000])"
   ]
  },
  {
   "cell_type": "markdown",
   "metadata": {},
   "source": [
    "It's time to pull the details of all the doctors one by one. So below are the details which we aim to scrape:\n",
    "- Name of the Doctor\n",
    "- Specialty\n",
    "- Rating\n",
    "- No. of Reviews\n",
    "- Name of the Doctor"
   ]
  },
  {
   "cell_type": "markdown",
   "metadata": {},
   "source": [
    "1. Name of the Doctor \n",
    "\n",
    "\n",
    "Let's find the tag which corresponds to the Doctor Name. In this  case its 'a' and class='search-item-doctor-link'."
   ]
  },
  {
   "cell_type": "code",
   "execution_count": 6,
   "metadata": {},
   "outputs": [
    {
     "data": {
      "text/plain": [
       "[<a class=\"search-item-doctor-link\" data-reactid=\".2e42e0x76zs.3:$2074748.1.0\" href=\"/doctor-ratings/20189/Dr-Natan-Schleider-New+York-NY.html\">Dr. Natan Schleider</a>,\n",
       " <a class=\"search-item-doctor-link\" data-reactid=\".2e42e0x76zs.3:$2046835.1.0\" href=\"/doctor-ratings/53736/Dr-George+P.-Liakeas-New+York-NY.html\">Dr. George P. Liakeas</a>,\n",
       " <a class=\"search-item-doctor-link\" data-reactid=\".2e42e0x76zs.3:$2033902.1.0\" href=\"/doctor-ratings/68700/Dr-Tammy+L.-Leopold-New+York-NY.html\">Dr. Tammy L. Leopold</a>,\n",
       " <a class=\"search-item-doctor-link\" data-reactid=\".2e42e0x76zs.3:$853961.1.0\" href=\"/doctor-ratings/3207299/Dr-Irina-Korneeva-Vladimirsky-New+York-NY.html\">Dr. Irina Korneeva-Vladimirsky</a>,\n",
       " <a class=\"search-item-doctor-link\" data-reactid=\".2e42e0x76zs.3:$2096001.1.0\" href=\"/doctor-ratings/4020537/Dr-Alexander-Blinski-New+York-NY.html\">Dr. Alexander Blinski</a>]"
      ]
     },
     "execution_count": 6,
     "metadata": {},
     "output_type": "execute_result"
    }
   ],
   "source": [
    "#Pull the Doctor Names HTML in the form of list\n",
    "doctor_name=summary.findAll('a',{'class':'search-item-doctor-link'})\n",
    "doctor_name[:5]"
   ]
  },
  {
   "cell_type": "markdown",
   "metadata": {},
   "source": [
    "The result we obtain above is a list of Doctor Names in HTML format. Now, we need to extract only the Doctor Names and add it into a new list."
   ]
  },
  {
   "cell_type": "code",
   "execution_count": 7,
   "metadata": {},
   "outputs": [
    {
     "data": {
      "text/plain": [
       "['Dr. Natan Schleider',\n",
       " 'Dr. George P. Liakeas',\n",
       " 'Dr. Tammy L. Leopold',\n",
       " 'Dr. Irina Korneeva-Vladimirsky',\n",
       " 'Dr. Alexander Blinski']"
      ]
     },
     "execution_count": 7,
     "metadata": {},
     "output_type": "execute_result"
    }
   ],
   "source": [
    "#Extract the Doctor Names from the list\n",
    "dr_name=[]\n",
    "for name in doctor_name:\n",
    "    dr_name.append(name.text)\n",
    "dr_name[:5]"
   ]
  },
  {
   "cell_type": "markdown",
   "metadata": {},
   "source": [
    "2. Specialty\n",
    "\n",
    "Let's find the tag which provides the details of Doctor's Speciality, similar to what we did for Name of the Doctor."
   ]
  },
  {
   "cell_type": "code",
   "execution_count": 8,
   "metadata": {},
   "outputs": [
    {
     "data": {
      "text/plain": [
       "[<div class=\"search-item-specialty\" data-reactid=\".2e42e0x76zs.3:$2074748.3\"><a data-reactid=\".2e42e0x76zs.3:$2074748.3.0\" href=\"/best-doctors/ny/new-york/family-gp/\">Family Doctor / G.P.</a></div>,\n",
       " <div class=\"search-item-specialty\" data-reactid=\".2e42e0x76zs.3:$2046835.3\"><a data-reactid=\".2e42e0x76zs.3:$2046835.3.0\" href=\"/best-doctors/ny/new-york/family-gp/\">Family Doctor / G.P.</a></div>,\n",
       " <div class=\"search-item-specialty\" data-reactid=\".2e42e0x76zs.3:$2033902.3\"><a data-reactid=\".2e42e0x76zs.3:$2033902.3.0\" href=\"/best-doctors/ny/new-york/family-gp/\">Family Doctor / G.P.</a></div>,\n",
       " <div class=\"search-item-specialty\" data-reactid=\".2e42e0x76zs.3:$853961.3\"><a data-reactid=\".2e42e0x76zs.3:$853961.3.0\" href=\"/best-doctors/ny/new-york/family-gp/\">Family Doctor / G.P.</a></div>,\n",
       " <div class=\"search-item-specialty\" data-reactid=\".2e42e0x76zs.3:$2096001.3\"><a data-reactid=\".2e42e0x76zs.3:$2096001.3.0\" href=\"/best-doctors/ny/new-york/family-gp/\">Family Doctor / G.P.</a></div>]"
      ]
     },
     "execution_count": 8,
     "metadata": {},
     "output_type": "execute_result"
    }
   ],
   "source": [
    "#Pull the Doctor Specialty HTML in the form of list\n",
    "doctor_specialty=summary.findAll('div',{'class':'search-item-specialty'})\n",
    "doctor_specialty[:5]"
   ]
  },
  {
   "cell_type": "markdown",
   "metadata": {},
   "source": [
    "Now, we'll extract the Doctor Specialty from the above result. All the specialty values will be similar as we are currently extracting only for one particular Specialty."
   ]
  },
  {
   "cell_type": "code",
   "execution_count": 9,
   "metadata": {},
   "outputs": [
    {
     "data": {
      "text/plain": [
       "['Family Doctor / G.P.',\n",
       " 'Family Doctor / G.P.',\n",
       " 'Family Doctor / G.P.',\n",
       " 'Family Doctor / G.P.',\n",
       " 'Family Doctor / G.P.']"
      ]
     },
     "execution_count": 9,
     "metadata": {},
     "output_type": "execute_result"
    }
   ],
   "source": [
    "#Extract the Doctor Specialty from the list\n",
    "dr_specialty=[]\n",
    "for specialty in doctor_specialty:\n",
    "    dr_specialty.append(specialty.text)\n",
    "dr_specialty[5:]"
   ]
  },
  {
   "cell_type": "markdown",
   "metadata": {},
   "source": [
    "3. Star Rating\n",
    "\n",
    "We'll find the tag for Star Rating similar to what we did for above two."
   ]
  },
  {
   "cell_type": "code",
   "execution_count": 10,
   "metadata": {},
   "outputs": [
    {
     "data": {
      "text/plain": [
       "[<span class=\"star-rating\" data-reactid=\".2e42e0x76zs.3:$2074748.4.0.0\" title=\"4.91\"><span class=\"stars\" data-reactid=\".2e42e0x76zs.3:$2074748.4.0.0.0\"><span class=\"star selected\" data-reactid=\".2e42e0x76zs.3:$2074748.4.0.0.0.$5\"></span><span class=\"star selected\" data-reactid=\".2e42e0x76zs.3:$2074748.4.0.0.0.$4\"></span><span class=\"star selected\" data-reactid=\".2e42e0x76zs.3:$2074748.4.0.0.0.$3\"></span><span class=\"star selected\" data-reactid=\".2e42e0x76zs.3:$2074748.4.0.0.0.$2\"></span><span class=\"star selected\" data-reactid=\".2e42e0x76zs.3:$2074748.4.0.0.0.$1\"></span></span></span>,\n",
       " <span class=\"star-rating\" data-reactid=\".2e42e0x76zs.3:$2046835.4.0.0\" title=\"4.56\"><span class=\"stars\" data-reactid=\".2e42e0x76zs.3:$2046835.4.0.0.0\"><span class=\"star half\" data-reactid=\".2e42e0x76zs.3:$2046835.4.0.0.0.$5\"></span><span class=\"star selected\" data-reactid=\".2e42e0x76zs.3:$2046835.4.0.0.0.$4\"></span><span class=\"star selected\" data-reactid=\".2e42e0x76zs.3:$2046835.4.0.0.0.$3\"></span><span class=\"star selected\" data-reactid=\".2e42e0x76zs.3:$2046835.4.0.0.0.$2\"></span><span class=\"star selected\" data-reactid=\".2e42e0x76zs.3:$2046835.4.0.0.0.$1\"></span></span></span>,\n",
       " <span class=\"star-rating\" data-reactid=\".2e42e0x76zs.3:$2033902.4.0.0\" title=\"4.56\"><span class=\"stars\" data-reactid=\".2e42e0x76zs.3:$2033902.4.0.0.0\"><span class=\"star half\" data-reactid=\".2e42e0x76zs.3:$2033902.4.0.0.0.$5\"></span><span class=\"star selected\" data-reactid=\".2e42e0x76zs.3:$2033902.4.0.0.0.$4\"></span><span class=\"star selected\" data-reactid=\".2e42e0x76zs.3:$2033902.4.0.0.0.$3\"></span><span class=\"star selected\" data-reactid=\".2e42e0x76zs.3:$2033902.4.0.0.0.$2\"></span><span class=\"star selected\" data-reactid=\".2e42e0x76zs.3:$2033902.4.0.0.0.$1\"></span></span></span>,\n",
       " <span class=\"star-rating\" data-reactid=\".2e42e0x76zs.3:$853961.4.0.0\" title=\"4.38\"><span class=\"stars\" data-reactid=\".2e42e0x76zs.3:$853961.4.0.0.0\"><span class=\"star half\" data-reactid=\".2e42e0x76zs.3:$853961.4.0.0.0.$5\"></span><span class=\"star selected\" data-reactid=\".2e42e0x76zs.3:$853961.4.0.0.0.$4\"></span><span class=\"star selected\" data-reactid=\".2e42e0x76zs.3:$853961.4.0.0.0.$3\"></span><span class=\"star selected\" data-reactid=\".2e42e0x76zs.3:$853961.4.0.0.0.$2\"></span><span class=\"star selected\" data-reactid=\".2e42e0x76zs.3:$853961.4.0.0.0.$1\"></span></span></span>,\n",
       " <span class=\"star-rating\" data-reactid=\".2e42e0x76zs.3:$2096001.4.0.0\" title=\"5.00\"><span class=\"stars\" data-reactid=\".2e42e0x76zs.3:$2096001.4.0.0.0\"><span class=\"star selected\" data-reactid=\".2e42e0x76zs.3:$2096001.4.0.0.0.$5\"></span><span class=\"star selected\" data-reactid=\".2e42e0x76zs.3:$2096001.4.0.0.0.$4\"></span><span class=\"star selected\" data-reactid=\".2e42e0x76zs.3:$2096001.4.0.0.0.$3\"></span><span class=\"star selected\" data-reactid=\".2e42e0x76zs.3:$2096001.4.0.0.0.$2\"></span><span class=\"star selected\" data-reactid=\".2e42e0x76zs.3:$2096001.4.0.0.0.$1\"></span></span></span>,\n",
       " <span class=\"star-rating\" data-reactid=\".2e42e0x76zs.3:$2087462.4.0.0\" title=\"4.78\"><span class=\"stars\" data-reactid=\".2e42e0x76zs.3:$2087462.4.0.0.0\"><span class=\"star selected\" data-reactid=\".2e42e0x76zs.3:$2087462.4.0.0.0.$5\"></span><span class=\"star selected\" data-reactid=\".2e42e0x76zs.3:$2087462.4.0.0.0.$4\"></span><span class=\"star selected\" data-reactid=\".2e42e0x76zs.3:$2087462.4.0.0.0.$3\"></span><span class=\"star selected\" data-reactid=\".2e42e0x76zs.3:$2087462.4.0.0.0.$2\"></span><span class=\"star selected\" data-reactid=\".2e42e0x76zs.3:$2087462.4.0.0.0.$1\"></span></span></span>,\n",
       " <span class=\"star-rating\" data-reactid=\".2e42e0x76zs.3:$466332.4.0.0\" title=\"5.00\"><span class=\"stars\" data-reactid=\".2e42e0x76zs.3:$466332.4.0.0.0\"><span class=\"star selected\" data-reactid=\".2e42e0x76zs.3:$466332.4.0.0.0.$5\"></span><span class=\"star selected\" data-reactid=\".2e42e0x76zs.3:$466332.4.0.0.0.$4\"></span><span class=\"star selected\" data-reactid=\".2e42e0x76zs.3:$466332.4.0.0.0.$3\"></span><span class=\"star selected\" data-reactid=\".2e42e0x76zs.3:$466332.4.0.0.0.$2\"></span><span class=\"star selected\" data-reactid=\".2e42e0x76zs.3:$466332.4.0.0.0.$1\"></span></span></span>,\n",
       " <span class=\"star-rating\" data-reactid=\".2e42e0x76zs.3:$2049596.4.0.0\" title=\"4.14\"><span class=\"stars\" data-reactid=\".2e42e0x76zs.3:$2049596.4.0.0.0\"><span class=\"star\" data-reactid=\".2e42e0x76zs.3:$2049596.4.0.0.0.$5\"></span><span class=\"star selected\" data-reactid=\".2e42e0x76zs.3:$2049596.4.0.0.0.$4\"></span><span class=\"star selected\" data-reactid=\".2e42e0x76zs.3:$2049596.4.0.0.0.$3\"></span><span class=\"star selected\" data-reactid=\".2e42e0x76zs.3:$2049596.4.0.0.0.$2\"></span><span class=\"star selected\" data-reactid=\".2e42e0x76zs.3:$2049596.4.0.0.0.$1\"></span></span></span>,\n",
       " <span class=\"star-rating\" data-reactid=\".2e42e0x76zs.3:$2024046.4.0.0\" title=\"4.80\"><span class=\"stars\" data-reactid=\".2e42e0x76zs.3:$2024046.4.0.0.0\"><span class=\"star selected\" data-reactid=\".2e42e0x76zs.3:$2024046.4.0.0.0.$5\"></span><span class=\"star selected\" data-reactid=\".2e42e0x76zs.3:$2024046.4.0.0.0.$4\"></span><span class=\"star selected\" data-reactid=\".2e42e0x76zs.3:$2024046.4.0.0.0.$3\"></span><span class=\"star selected\" data-reactid=\".2e42e0x76zs.3:$2024046.4.0.0.0.$2\"></span><span class=\"star selected\" data-reactid=\".2e42e0x76zs.3:$2024046.4.0.0.0.$1\"></span></span></span>,\n",
       " <span class=\"star-rating\" data-reactid=\".2e42e0x76zs.3:$2076697.4.0.0\" title=\"4.31\"><span class=\"stars\" data-reactid=\".2e42e0x76zs.3:$2076697.4.0.0.0\"><span class=\"star half\" data-reactid=\".2e42e0x76zs.3:$2076697.4.0.0.0.$5\"></span><span class=\"star selected\" data-reactid=\".2e42e0x76zs.3:$2076697.4.0.0.0.$4\"></span><span class=\"star selected\" data-reactid=\".2e42e0x76zs.3:$2076697.4.0.0.0.$3\"></span><span class=\"star selected\" data-reactid=\".2e42e0x76zs.3:$2076697.4.0.0.0.$2\"></span><span class=\"star selected\" data-reactid=\".2e42e0x76zs.3:$2076697.4.0.0.0.$1\"></span></span></span>]"
      ]
     },
     "execution_count": 10,
     "metadata": {},
     "output_type": "execute_result"
    }
   ],
   "source": [
    "#Extracting Star Rating\n",
    "doctor_star_rating=summary.findAll('span',{'class':'star-rating'})\n",
    "doctor_star_rating"
   ]
  },
  {
   "cell_type": "markdown",
   "metadata": {},
   "source": [
    "Here the star rating is not available in the form of text in the tag.Instead, its located inside an attribute of the tag. We need to extract the value from the attribute. To do this, we need to understand how do we treat this tag: \n",
    "\n",
    "Beautiful soup allows us to treat the tags as a dictionary where each attribute corresponds to a key. So, here we will be extracting value from the attribute 'title'."
   ]
  },
  {
   "cell_type": "code",
   "execution_count": 11,
   "metadata": {},
   "outputs": [
    {
     "data": {
      "text/plain": [
       "['4.91',\n",
       " '4.56',\n",
       " '4.56',\n",
       " '4.38',\n",
       " '5.00',\n",
       " '4.78',\n",
       " '5.00',\n",
       " '4.14',\n",
       " '4.80',\n",
       " '4.31']"
      ]
     },
     "execution_count": 11,
     "metadata": {},
     "output_type": "execute_result"
    }
   ],
   "source": [
    "dr_star_rating=[]\n",
    "for stars in range(0,len(doctor_star_rating)):\n",
    "    dr_star_rating.append(doctor_star_rating[stars]['title'])\n",
    "dr_star_rating"
   ]
  },
  {
   "cell_type": "markdown",
   "metadata": {},
   "source": [
    "4. No. of reviews\n",
    "\n",
    "Finally, we'll extract our last required column i.e the no. of reviews provided for each doctor."
   ]
  },
  {
   "cell_type": "code",
   "execution_count": 12,
   "metadata": {},
   "outputs": [
    {
     "data": {
      "text/plain": [
       "[<div class=\"star-rating-count\" data-reactid=\".2e42e0x76zs.3:$2074748.4.0.1\"><span data-reactid=\".2e42e0x76zs.3:$2074748.4.0.1.0\">34</span><span data-reactid=\".2e42e0x76zs.3:$2074748.4.0.1.1\"> reviews</span></div>,\n",
       " <div class=\"star-rating-count\" data-reactid=\".2e42e0x76zs.3:$2046835.4.0.1\"><span data-reactid=\".2e42e0x76zs.3:$2046835.4.0.1.0\">33</span><span data-reactid=\".2e42e0x76zs.3:$2046835.4.0.1.1\"> reviews</span></div>,\n",
       " <div class=\"star-rating-count\" data-reactid=\".2e42e0x76zs.3:$2033902.4.0.1\"><span data-reactid=\".2e42e0x76zs.3:$2033902.4.0.1.0\">25</span><span data-reactid=\".2e42e0x76zs.3:$2033902.4.0.1.1\"> reviews</span></div>,\n",
       " <div class=\"star-rating-count\" data-reactid=\".2e42e0x76zs.3:$853961.4.0.1\"><span data-reactid=\".2e42e0x76zs.3:$853961.4.0.1.0\">28</span><span data-reactid=\".2e42e0x76zs.3:$853961.4.0.1.1\"> reviews</span></div>,\n",
       " <div class=\"star-rating-count\" data-reactid=\".2e42e0x76zs.3:$2096001.4.0.1\"><span data-reactid=\".2e42e0x76zs.3:$2096001.4.0.1.0\">7</span><span data-reactid=\".2e42e0x76zs.3:$2096001.4.0.1.1\"> reviews</span></div>,\n",
       " <div class=\"star-rating-count\" data-reactid=\".2e42e0x76zs.3:$2087462.4.0.1\"><span data-reactid=\".2e42e0x76zs.3:$2087462.4.0.1.0\">12</span><span data-reactid=\".2e42e0x76zs.3:$2087462.4.0.1.1\"> reviews</span></div>,\n",
       " <div class=\"star-rating-count\" data-reactid=\".2e42e0x76zs.3:$466332.4.0.1\"><span data-reactid=\".2e42e0x76zs.3:$466332.4.0.1.0\">6</span><span data-reactid=\".2e42e0x76zs.3:$466332.4.0.1.1\"> reviews</span></div>,\n",
       " <div class=\"star-rating-count\" data-reactid=\".2e42e0x76zs.3:$2049596.4.0.1\"><span data-reactid=\".2e42e0x76zs.3:$2049596.4.0.1.0\">33</span><span data-reactid=\".2e42e0x76zs.3:$2049596.4.0.1.1\"> reviews</span></div>,\n",
       " <div class=\"star-rating-count\" data-reactid=\".2e42e0x76zs.3:$2024046.4.0.1\"><span data-reactid=\".2e42e0x76zs.3:$2024046.4.0.1.0\">14</span><span data-reactid=\".2e42e0x76zs.3:$2024046.4.0.1.1\"> reviews</span></div>,\n",
       " <div class=\"star-rating-count\" data-reactid=\".2e42e0x76zs.3:$2076697.4.0.1\"><span data-reactid=\".2e42e0x76zs.3:$2076697.4.0.1.0\">14</span><span data-reactid=\".2e42e0x76zs.3:$2076697.4.0.1.1\"> reviews</span></div>]"
      ]
     },
     "execution_count": 12,
     "metadata": {},
     "output_type": "execute_result"
    }
   ],
   "source": [
    "#extract Doctor_reviews\n",
    "doctor_reviews=summary.findAll('div',{'class':'star-rating-count'})\n",
    "doctor_reviews"
   ]
  },
  {
   "cell_type": "markdown",
   "metadata": {},
   "source": [
    "Here, we can observe that text data in the tag is in the form 'count reviews'. Eg. '156 Reviews'. But, we only need the number and not the text 'Reviews'. So, we'll extract only the numeric value."
   ]
  },
  {
   "cell_type": "code",
   "execution_count": 13,
   "metadata": {},
   "outputs": [
    {
     "data": {
      "text/plain": [
       "['34', '33', '25', '28', '7', '12', '6', '33', '14', '14']"
      ]
     },
     "execution_count": 13,
     "metadata": {},
     "output_type": "execute_result"
    }
   ],
   "source": [
    "dr_reviews=[]\n",
    "for rev in doctor_reviews:\n",
    "    dr_reviews.append((rev.text)[0:rev.text.find(\" \")])\n",
    "dr_reviews"
   ]
  },
  {
   "cell_type": "markdown",
   "metadata": {},
   "source": [
    "Now, it's time to create a table out of the extracted data. \n",
    "\n",
    "I converted the lists into series first and then joined it into dataframe. Another way would be to combine the lists into a data frame using dictionaries."
   ]
  },
  {
   "cell_type": "code",
   "execution_count": 14,
   "metadata": {},
   "outputs": [],
   "source": [
    "#Create Series of all the lists\n",
    "dr_name=Series(dr_name)\n",
    "dr_specialty=Series(dr_specialty)\n",
    "dr_star_rating=Series(dr_star_rating)\n",
    "dr_reviews=Series(dr_reviews)"
   ]
  },
  {
   "cell_type": "code",
   "execution_count": 15,
   "metadata": {},
   "outputs": [
    {
     "data": {
      "text/html": [
       "<div>\n",
       "<style scoped>\n",
       "    .dataframe tbody tr th:only-of-type {\n",
       "        vertical-align: middle;\n",
       "    }\n",
       "\n",
       "    .dataframe tbody tr th {\n",
       "        vertical-align: top;\n",
       "    }\n",
       "\n",
       "    .dataframe thead th {\n",
       "        text-align: right;\n",
       "    }\n",
       "</style>\n",
       "<table border=\"1\" class=\"dataframe\">\n",
       "  <thead>\n",
       "    <tr style=\"text-align: right;\">\n",
       "      <th></th>\n",
       "      <th>Doctor Name</th>\n",
       "      <th>Specialty</th>\n",
       "      <th>Rating</th>\n",
       "      <th>No. of Reviews</th>\n",
       "    </tr>\n",
       "  </thead>\n",
       "  <tbody>\n",
       "    <tr>\n",
       "      <th>0</th>\n",
       "      <td>Dr. Natan Schleider</td>\n",
       "      <td>Family Doctor / G.P.</td>\n",
       "      <td>4.91</td>\n",
       "      <td>34</td>\n",
       "    </tr>\n",
       "    <tr>\n",
       "      <th>1</th>\n",
       "      <td>Dr. George P. Liakeas</td>\n",
       "      <td>Family Doctor / G.P.</td>\n",
       "      <td>4.56</td>\n",
       "      <td>33</td>\n",
       "    </tr>\n",
       "    <tr>\n",
       "      <th>2</th>\n",
       "      <td>Dr. Tammy L. Leopold</td>\n",
       "      <td>Family Doctor / G.P.</td>\n",
       "      <td>4.56</td>\n",
       "      <td>25</td>\n",
       "    </tr>\n",
       "    <tr>\n",
       "      <th>3</th>\n",
       "      <td>Dr. Irina Korneeva-Vladimirsky</td>\n",
       "      <td>Family Doctor / G.P.</td>\n",
       "      <td>4.38</td>\n",
       "      <td>28</td>\n",
       "    </tr>\n",
       "    <tr>\n",
       "      <th>4</th>\n",
       "      <td>Dr. Alexander Blinski</td>\n",
       "      <td>Family Doctor / G.P.</td>\n",
       "      <td>5.00</td>\n",
       "      <td>7</td>\n",
       "    </tr>\n",
       "    <tr>\n",
       "      <th>5</th>\n",
       "      <td>Dr. Pamela Hops</td>\n",
       "      <td>Family Doctor / G.P.</td>\n",
       "      <td>4.78</td>\n",
       "      <td>12</td>\n",
       "    </tr>\n",
       "    <tr>\n",
       "      <th>6</th>\n",
       "      <td>Dr. Leslie H. Gerstman</td>\n",
       "      <td>Family Doctor / G.P.</td>\n",
       "      <td>5.00</td>\n",
       "      <td>6</td>\n",
       "    </tr>\n",
       "    <tr>\n",
       "      <th>7</th>\n",
       "      <td>Dr. Valerie Lyon</td>\n",
       "      <td>Family Doctor / G.P.</td>\n",
       "      <td>4.14</td>\n",
       "      <td>33</td>\n",
       "    </tr>\n",
       "    <tr>\n",
       "      <th>8</th>\n",
       "      <td>Dr. D. Steenkamp</td>\n",
       "      <td>Family Doctor / G.P.</td>\n",
       "      <td>4.80</td>\n",
       "      <td>14</td>\n",
       "    </tr>\n",
       "    <tr>\n",
       "      <th>9</th>\n",
       "      <td>Dr. Sanford M. Gould</td>\n",
       "      <td>Family Doctor / G.P.</td>\n",
       "      <td>4.31</td>\n",
       "      <td>14</td>\n",
       "    </tr>\n",
       "  </tbody>\n",
       "</table>\n",
       "</div>"
      ],
      "text/plain": [
       "                      Doctor Name             Specialty Rating No. of Reviews\n",
       "0             Dr. Natan Schleider  Family Doctor / G.P.   4.91             34\n",
       "1           Dr. George P. Liakeas  Family Doctor / G.P.   4.56             33\n",
       "2            Dr. Tammy L. Leopold  Family Doctor / G.P.   4.56             25\n",
       "3  Dr. Irina Korneeva-Vladimirsky  Family Doctor / G.P.   4.38             28\n",
       "4           Dr. Alexander Blinski  Family Doctor / G.P.   5.00              7\n",
       "5                 Dr. Pamela Hops  Family Doctor / G.P.   4.78             12\n",
       "6          Dr. Leslie H. Gerstman  Family Doctor / G.P.   5.00              6\n",
       "7                Dr. Valerie Lyon  Family Doctor / G.P.   4.14             33\n",
       "8                Dr. D. Steenkamp  Family Doctor / G.P.   4.80             14\n",
       "9            Dr. Sanford M. Gould  Family Doctor / G.P.   4.31             14"
      ]
     },
     "execution_count": 15,
     "metadata": {},
     "output_type": "execute_result"
    }
   ],
   "source": [
    "#Create a Dataframe\n",
    "family_df=pd.concat([dr_name,dr_specialty,dr_star_rating,dr_reviews],axis=1)\n",
    "#Name the columns\n",
    "family_df.columns=['Doctor Name','Specialty','Rating','No. of Reviews']\n",
    "family_df"
   ]
  },
  {
   "cell_type": "markdown",
   "metadata": {},
   "source": [
    "## 2nd Part: Webscraping multiple pages"
   ]
  },
  {
   "cell_type": "markdown",
   "metadata": {},
   "source": [
    "To scrape multiple pages from a website, we'll build upon whatever we did above for a single page.\n",
    "First, We need to first understand the structure of the URL i.e. exactly where is the page value changing. Here the url with page number two is in the format https://www.ratemds.com/best-doctors/ny/new-york/family-gp/?page=2. So we need to change the last letter of the url to extract data from each page. For that we need to create a list having the list of pages we need to scrape. Here, I'll be scraping first 5 pages of the result."
   ]
  },
  {
   "cell_type": "code",
   "execution_count": 23,
   "metadata": {},
   "outputs": [],
   "source": [
    "url_by_user='https://www.ratemds.com/best-doctors/ny/new-york/family-gp/?page='\n",
    "#Set pages to be scraped\n",
    "pages=[str(i) for i in range(1,6)]"
   ]
  },
  {
   "cell_type": "markdown",
   "metadata": {},
   "source": [
    "Second, we need to create variables that would help us to control and monitor the loop rate. This is done to make sure that we are not bombarding the server with our requests."
   ]
  },
  {
   "cell_type": "code",
   "execution_count": 24,
   "metadata": {},
   "outputs": [],
   "source": [
    "#Monitoring the loop\n",
    "start_time=time()\n",
    "request=0"
   ]
  },
  {
   "cell_type": "markdown",
   "metadata": {},
   "source": [
    "Now, we created empty lists which will be used to store the details of the respective doctors after scraping from the website."
   ]
  },
  {
   "cell_type": "code",
   "execution_count": 25,
   "metadata": {},
   "outputs": [],
   "source": [
    "#Create empty lists for respective values to be extracted\n",
    "dr_name_all=[]\n",
    "dr_reviews_all=[]\n",
    "dr_specialty_all=[]\n",
    "dr_star_rating_all=[]"
   ]
  },
  {
   "cell_type": "markdown",
   "metadata": {},
   "source": [
    "Below is the code which is looped, in order to combine data from all the pages. \n",
    "\n",
    "We'll be pausing the loop for a period in the range of 8 to 15 seconds after every page in order to avoid bombarding huge number of requests per second on the server. Neglecting this might lead to ban of our IP Address. Rest all the things are similar to what we did to extract data for a single page."
   ]
  },
  {
   "cell_type": "code",
   "execution_count": 26,
   "metadata": {},
   "outputs": [
    {
     "name": "stdout",
     "output_type": "stream",
     "text": [
      "Requests: 5; Frequency: 0.07837724123369154 requests/sec\n"
     ]
    }
   ],
   "source": [
    "for page in pages:\n",
    "    \n",
    "    #Make a get request\n",
    "    response=get(url_by_user+page)\n",
    "    \n",
    "    #Pause the loop\n",
    "    sleep(randint(8,15))\n",
    "    \n",
    "    #Monitor the requests\n",
    "    request+=1\n",
    "    elapsed_time=time()-start_time\n",
    "    print('Requests: {}; Frequency: {} requests/sec'.format(request, request/elapsed_time))\n",
    "    clear_output(wait=True)\n",
    "    \n",
    "    #Empty the contents into usable format\n",
    "    soup=BeautifulSoup(response.content,\"lxml\")\n",
    "    \n",
    "    #Select the container having all the doctor details\n",
    "    summary=soup.find('div',{'id':'doctor-list'})\n",
    "    \n",
    "    #Extract doctor names\n",
    "    doctor_name=summary.findAll('a',{'class':'search-item-doctor-link'})\n",
    "    for name in doctor_name:\n",
    "        dr_name_all.append(name.text)\n",
    "    \n",
    "    #Extract doctor specialty\n",
    "    doctor_specialty=summary.findAll('div',{'class':'search-item-specialty'})\n",
    "    for specialty in doctor_specialty:\n",
    "        dr_specialty_all.append(specialty.text)\n",
    "    \n",
    "    #Extract star rating\n",
    "    doctor_star_rating=summary.findAll('span',{'class':'star-rating'})\n",
    "    for stars in range(0,len(doctor_star_rating)):\n",
    "        dr_star_rating_all.append(doctor_star_rating[stars]['title'])\n",
    "    \n",
    "    #Extract no. of reviews\n",
    "    doctor_reviews=summary.findAll('div',{'class':'star-rating-count'})\n",
    "    for reviews in doctor_reviews:\n",
    "        dr_reviews_all.append((reviews.text)[0:(reviews.text).find(\" \")])"
   ]
  },
  {
   "cell_type": "code",
   "execution_count": 27,
   "metadata": {},
   "outputs": [],
   "source": [
    "#Make series of all the lists\n",
    "dr_name=Series(dr_name_all)\n",
    "dr_reviews=Series(dr_reviews_all)\n",
    "dr_specialty=Series(dr_specialty_all)\n",
    "dr_star_rating=Series(dr_star_rating_all)"
   ]
  },
  {
   "cell_type": "code",
   "execution_count": 28,
   "metadata": {},
   "outputs": [],
   "source": [
    "#Create a dataframe and save it to a .csv file\n",
    "family_df=pd.concat([dr_name, dr_specialty, dr_star_rating, dr_reviews],axis=1,ignore_index=True)\n",
    "family_df.columns=['Doctor Name','Specialty', 'Rating','No. of Reviews']\n",
    "family_df.to_csv('RateMDs-Family-G.Ps.csv')"
   ]
  },
  {
   "cell_type": "code",
   "execution_count": 29,
   "metadata": {},
   "outputs": [
    {
     "data": {
      "text/html": [
       "<div>\n",
       "<style scoped>\n",
       "    .dataframe tbody tr th:only-of-type {\n",
       "        vertical-align: middle;\n",
       "    }\n",
       "\n",
       "    .dataframe tbody tr th {\n",
       "        vertical-align: top;\n",
       "    }\n",
       "\n",
       "    .dataframe thead th {\n",
       "        text-align: right;\n",
       "    }\n",
       "</style>\n",
       "<table border=\"1\" class=\"dataframe\">\n",
       "  <thead>\n",
       "    <tr style=\"text-align: right;\">\n",
       "      <th></th>\n",
       "      <th>Doctor Name</th>\n",
       "      <th>Specialty</th>\n",
       "      <th>Rating</th>\n",
       "      <th>No. of Reviews</th>\n",
       "    </tr>\n",
       "  </thead>\n",
       "  <tbody>\n",
       "    <tr>\n",
       "      <th>0</th>\n",
       "      <td>Dr. Natan Schleider</td>\n",
       "      <td>Family Doctor / G.P.</td>\n",
       "      <td>4.91</td>\n",
       "      <td>34</td>\n",
       "    </tr>\n",
       "    <tr>\n",
       "      <th>1</th>\n",
       "      <td>Dr. George P. Liakeas</td>\n",
       "      <td>Family Doctor / G.P.</td>\n",
       "      <td>4.56</td>\n",
       "      <td>33</td>\n",
       "    </tr>\n",
       "    <tr>\n",
       "      <th>2</th>\n",
       "      <td>Dr. Tammy L. Leopold</td>\n",
       "      <td>Family Doctor / G.P.</td>\n",
       "      <td>4.56</td>\n",
       "      <td>25</td>\n",
       "    </tr>\n",
       "    <tr>\n",
       "      <th>3</th>\n",
       "      <td>Dr. Irina Korneeva-Vladimirsky</td>\n",
       "      <td>Family Doctor / G.P.</td>\n",
       "      <td>4.38</td>\n",
       "      <td>28</td>\n",
       "    </tr>\n",
       "    <tr>\n",
       "      <th>4</th>\n",
       "      <td>Dr. Alexander Blinski</td>\n",
       "      <td>Family Doctor / G.P.</td>\n",
       "      <td>5.00</td>\n",
       "      <td>7</td>\n",
       "    </tr>\n",
       "    <tr>\n",
       "      <th>5</th>\n",
       "      <td>Dr. Pamela Hops</td>\n",
       "      <td>Family Doctor / G.P.</td>\n",
       "      <td>4.78</td>\n",
       "      <td>12</td>\n",
       "    </tr>\n",
       "    <tr>\n",
       "      <th>6</th>\n",
       "      <td>Dr. Leslie H. Gerstman</td>\n",
       "      <td>Family Doctor / G.P.</td>\n",
       "      <td>5.00</td>\n",
       "      <td>6</td>\n",
       "    </tr>\n",
       "    <tr>\n",
       "      <th>7</th>\n",
       "      <td>Dr. Valerie Lyon</td>\n",
       "      <td>Family Doctor / G.P.</td>\n",
       "      <td>4.14</td>\n",
       "      <td>33</td>\n",
       "    </tr>\n",
       "    <tr>\n",
       "      <th>8</th>\n",
       "      <td>Dr. D. Steenkamp</td>\n",
       "      <td>Family Doctor / G.P.</td>\n",
       "      <td>4.80</td>\n",
       "      <td>14</td>\n",
       "    </tr>\n",
       "    <tr>\n",
       "      <th>9</th>\n",
       "      <td>Dr. Sanford M. Gould</td>\n",
       "      <td>Family Doctor / G.P.</td>\n",
       "      <td>4.31</td>\n",
       "      <td>14</td>\n",
       "    </tr>\n",
       "  </tbody>\n",
       "</table>\n",
       "</div>"
      ],
      "text/plain": [
       "                      Doctor Name             Specialty Rating No. of Reviews\n",
       "0             Dr. Natan Schleider  Family Doctor / G.P.   4.91             34\n",
       "1           Dr. George P. Liakeas  Family Doctor / G.P.   4.56             33\n",
       "2            Dr. Tammy L. Leopold  Family Doctor / G.P.   4.56             25\n",
       "3  Dr. Irina Korneeva-Vladimirsky  Family Doctor / G.P.   4.38             28\n",
       "4           Dr. Alexander Blinski  Family Doctor / G.P.   5.00              7\n",
       "5                 Dr. Pamela Hops  Family Doctor / G.P.   4.78             12\n",
       "6          Dr. Leslie H. Gerstman  Family Doctor / G.P.   5.00              6\n",
       "7                Dr. Valerie Lyon  Family Doctor / G.P.   4.14             33\n",
       "8                Dr. D. Steenkamp  Family Doctor / G.P.   4.80             14\n",
       "9            Dr. Sanford M. Gould  Family Doctor / G.P.   4.31             14"
      ]
     },
     "execution_count": 29,
     "metadata": {},
     "output_type": "execute_result"
    }
   ],
   "source": [
    "#A glimpse of our dataset\n",
    "family_df.head(10)"
   ]
  }
 ],
 "metadata": {
  "kernelspec": {
   "display_name": "Python 3",
   "language": "python",
   "name": "python3"
  },
  "language_info": {
   "codemirror_mode": {
    "name": "ipython",
    "version": 3
   },
   "file_extension": ".py",
   "mimetype": "text/x-python",
   "name": "python",
   "nbconvert_exporter": "python",
   "pygments_lexer": "ipython3",
   "version": "3.6.5"
  },
  "widgets": {
   "application/vnd.jupyter.widget-state+json": {
    "state": {},
    "version_major": 2,
    "version_minor": 0
   }
  }
 },
 "nbformat": 4,
 "nbformat_minor": 2
}
