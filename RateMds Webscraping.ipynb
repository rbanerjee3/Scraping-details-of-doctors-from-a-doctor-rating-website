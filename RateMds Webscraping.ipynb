{
 "cells": [
  {
   "cell_type": "markdown",
   "metadata": {},
   "source": [
    "Web Scraping data from RateMDs website"
   ]
  },
  {
   "cell_type": "code",
   "execution_count": 53,
   "metadata": {},
   "outputs": [],
   "source": [
    "#Import Webscraping libraries\n",
    "from bs4 import BeautifulSoup\n",
    "from requests import get\n",
    "\n",
    "#Import Data structure libraries\n",
    "import pandas as pd\n",
    "from pandas import Series, DataFrame\n",
    "\n",
    "#Import libraries for controlling crawling rate\n",
    "from time import sleep, time\n",
    "from random import randint\n",
    "\n",
    "#Import library for clearing output\n",
    "from IPython.core.display import clear_output"
   ]
  },
  {
   "cell_type": "markdown",
   "metadata": {},
   "source": [
    "Here, the data that I want to scrape is the details of doctors whose specialty is 'Family/G.P.s' and the city they live/practice in is 'New York'."
   ]
  },
  {
   "cell_type": "code",
   "execution_count": 3,
   "metadata": {},
   "outputs": [],
   "source": [
    "#Enter the url you need to scrape\n",
    "url='https://www.ratemds.com/best-doctors/ny/new-york/family-gp'"
   ]
  },
  {
   "cell_type": "code",
   "execution_count": 4,
   "metadata": {},
   "outputs": [
    {
     "data": {
      "text/plain": [
       "b'\\n<!DOCTYPE html>\\n<html lang=\"en\" ng-app=\"RateMds\" id=\"ng-app\">\\n<head>\\n<meta charset=\"utf-8\">\\n<meta http-equiv=\"X-UA-Compatible\" content=\"IE=edge\">\\n<meta name=\"viewport\" content=\"width=device-width, initial-scale=1, user-scalable=no\">\\n<link rel=\"apple-touch-icon\" sizes=\"57x57\" href=\"//www.ratemds.com/static/img/favicons/apple-touch-icon-57x57.495c70819b0f.png\">\\n<link rel=\"apple-touch-icon\" sizes=\"114x114\" href=\"//www.ratemds.com/static/img/favicons/apple-touch-icon-114x114.abcec11ee43c.png\">\\n<link rel=\"apple-touch-icon\" sizes=\"72x72\" href=\"//www.ratemds.com/static/img/favicons/apple-touch-icon-72x72.a21a57e92df8.png\">\\n<link rel=\"apple-touch-icon\" sizes=\"144x144\" href=\"//www.ratemds.com/static/img/favicons/apple-touch-icon-144x144.2fcfe644723c.png\">\\n<link rel=\"apple-touch-icon\" sizes=\"60x60\" href=\"//www.ratemds.com/static/img/favicons/apple-touch-icon-60x60.5dd1baf2b8ba.png\">\\n<link rel=\"apple-touch-icon\" sizes=\"120x120\" href=\"//www.ratemds.com/static/img/favicons/apple-touch-icon-120x120'"
      ]
     },
     "execution_count": 4,
     "metadata": {},
     "output_type": "execute_result"
    }
   ],
   "source": [
    "#use 'get' from requests library to obtain the HTML of the website's home page\n",
    "response=get(url)\n",
    "response.content[:1000]"
   ]
  },
  {
   "cell_type": "markdown",
   "metadata": {},
   "source": [
    "As we can see, the HTML data we extracted is quite messy. Thus, we need to improve the readability of the content."
   ]
  },
  {
   "cell_type": "code",
   "execution_count": 5,
   "metadata": {
    "collapsed": true
   },
   "outputs": [
    {
     "name": "stdout",
     "output_type": "stream",
     "text": [
      "<!DOCTYPE html>\n",
      "<html id=\"ng-app\" lang=\"en\" ng-app=\"RateMds\">\n",
      " <head>\n",
      "  <meta charset=\"utf-8\"/>\n",
      "  <meta content=\"IE=edge\" http-equiv=\"X-UA-Compatible\"/>\n",
      "  <meta content=\"width=device-width, initial-scale=1, user-scalable=no\" name=\"viewport\"/>\n",
      "  <link href=\"//www.ratemds.com/static/img/favicons/apple-touch-icon-57x57.495c70819b0f.png\" rel=\"apple-touch-icon\" sizes=\"57x57\"/>\n",
      "  <link href=\"//www.ratemds.com/static/img/favicons/apple-touch-icon-114x114.abcec11ee43c.png\" rel=\"apple-touch-icon\" sizes=\"114x114\"/>\n",
      "  <link href=\"//www.ratemds.com/static/img/favicons/apple-touch-icon-72x72.a21a57e92df8.png\" rel=\"apple-touch-icon\" sizes=\"72x72\"/>\n",
      "  <link href=\"//www.ratemds.com/static/img/favicons/apple-touch-icon-144x144.2fcfe644723c.png\" rel=\"apple-touch-icon\" sizes=\"144x144\"/>\n",
      "  <link href=\"//www.ratemds.com/static/img/favicons/apple-touch-icon-60x60.5dd1baf2b8ba.png\" rel=\"apple-touch-icon\" sizes=\"60x60\"/>\n",
      "  <link href=\"//www.ratemds.com/static/img/favicons/apple-touch-icon-120x120.e5b8c908f646\n"
     ]
    }
   ],
   "source": [
    "#Convert the above content into a more readable format\n",
    "soup=BeautifulSoup((response.content),\"lxml\")\n",
    "print(soup.prettify()[:1000]) #prettify() makes the content more readable"
   ]
  },
  {
   "cell_type": "markdown",
   "metadata": {},
   "source": [
    "Now, we need to search for the HTML part of the webpage which we need to scrape i.e. the Doctor Details.\n",
    "Next, we need to identify the corresponding tag in the HTML and use the find() function over soup to get the required contents."
   ]
  },
  {
   "cell_type": "code",
   "execution_count": 6,
   "metadata": {
    "collapsed": true
   },
   "outputs": [
    {
     "name": "stdout",
     "output_type": "stream",
     "text": [
      "<div id=\"doctor-list\">\n",
      " <div data-react-checksum=\"817905626\" data-reactid=\".1fy2aoe824i\">\n",
      "  <h2 class=\"subtitle heading-withsub\" data-reactid=\".1fy2aoe824i.0\">\n",
      "   <span data-reactid=\".1fy2aoe824i.0.0\">\n",
      "    The\n",
      "   </span>\n",
      "   <span data-reactid=\".1fy2aoe824i.0.1\">\n",
      "    Best Family Doctors / G.P.s in The World\n",
      "   </span>\n",
      "  </h2>\n",
      "  <a class=\"heading-sub\" data-reactid=\".1fy2aoe824i.1\" href=\"/specialties/family-gp/\">\n",
      "   <span data-reactid=\".1fy2aoe824i.1.0\">\n",
      "    What is a\n",
      "   </span>\n",
      "   <span data-reactid=\".1fy2aoe824i.1.1\">\n",
      "    Family Doctor / G.P.\n",
      "   </span>\n",
      "   <span data-reactid=\".1fy2aoe824i.1.2\">\n",
      "    ?\n",
      "   </span>\n",
      "  </a>\n",
      "  <div class=\"search-item doctor-profile\" data-reactid=\".1fy2aoe824i.3:$2139668\">\n",
      "   <img alt=\"Dr. Anna Becker\" class=\"search-item-image\" data-reactid=\".1fy2aoe824i.3:$2139668.0\" height=\"100\" src=\"//www.ratemds.com/static/img/doctors/doctor-female.png_thumbs/v1_at_100x100.jpg\" width=\"100\"/>\n",
      "   <h2 class=\"search-item-doctor-name\" data-reactid=\".1fy2aoe824i.3:$2139668.1\">\n",
      "  \n"
     ]
    }
   ],
   "source": [
    "#Choose the section of interest\n",
    "summary=soup.find('div',{'id':'doctor-list'})\n",
    "print(summary.prettify()[:1000])"
   ]
  },
  {
   "cell_type": "markdown",
   "metadata": {},
   "source": [
    "It's time to pull the details of all the doctors one by one. So below are the details which we aim to scrape:\n",
    "1. Name of the Doctor\n",
    "2. Specialty\n",
    "3. Rating\n",
    "4. No. of Reviews"
   ]
  },
  {
   "cell_type": "markdown",
   "metadata": {},
   "source": [
    "1. Name of the Doctor\n",
    "\n",
    "We need to find the tag which corresponds to the Doctor Name. In this  case its 'a' and class='search-item-doctor-link'."
   ]
  },
  {
   "cell_type": "code",
   "execution_count": 7,
   "metadata": {},
   "outputs": [
    {
     "data": {
      "text/plain": [
       "[<a class=\"search-item-doctor-link\" data-reactid=\".1fy2aoe824i.3:$2139668.1.0\" href=\"/doctor-ratings/dr-anna-becker-greensboro-nc-us\">Dr. Anna Becker</a>,\n",
       " <a class=\"search-item-doctor-link\" data-reactid=\".1fy2aoe824i.3:$2075115.1.0\" href=\"/doctor-ratings/19756/Dr-Frances+P.-Wong-Jamestown-NC.html\">Dr. Frances P. Wong</a>,\n",
       " <a class=\"search-item-doctor-link\" data-reactid=\".1fy2aoe824i.3:$432370.1.0\" href=\"/doctor-ratings/3554647/Dr-Lewis-Mitchell-Greensboro-NC.html\">Dr. Lewis Mitchell</a>,\n",
       " <a class=\"search-item-doctor-link\" data-reactid=\".1fy2aoe824i.3:$1756511.1.0\" href=\"/doctor-ratings/772997/Dr-Kevin-Little-Greensboro-NC.html\">Dr. Kevin Little</a>,\n",
       " <a class=\"search-item-doctor-link\" data-reactid=\".1fy2aoe824i.3:$1951898.1.0\" href=\"/doctor-ratings/171094/Dr-Mitch-Freeman-YUMA-AZ.html\">Dr. Mitch Freeman</a>]"
      ]
     },
     "execution_count": 7,
     "metadata": {},
     "output_type": "execute_result"
    }
   ],
   "source": [
    "#Pull the Doctor Names HTML in the form of list\n",
    "doctor_name=summary.findAll('a',{'class':'search-item-doctor-link'})\n",
    "doctor_name[:5]"
   ]
  },
  {
   "cell_type": "markdown",
   "metadata": {},
   "source": [
    "The result we obtain above is a list of Doctor Names in HTML format. Now, we need to extract only the Doctor Names and add it into a new list."
   ]
  },
  {
   "cell_type": "code",
   "execution_count": 8,
   "metadata": {},
   "outputs": [
    {
     "data": {
      "text/plain": [
       "['Dr. Anna Becker',\n",
       " 'Dr. Frances P. Wong',\n",
       " 'Dr. Lewis Mitchell',\n",
       " 'Dr. Kevin Little',\n",
       " 'Dr. Mitch Freeman']"
      ]
     },
     "execution_count": 8,
     "metadata": {},
     "output_type": "execute_result"
    }
   ],
   "source": [
    "#Extract the Doctor Names from the list\n",
    "dr_name=[]\n",
    "for name in doctor_name:\n",
    "    dr_name.append(name.text)\n",
    "dr_name[:5]"
   ]
  },
  {
   "cell_type": "markdown",
   "metadata": {},
   "source": [
    "2. Specialty\n",
    "\n",
    "We need to find the tag which provides the details of Doctor's Speciality, similar to what we did for Name of the Doctor."
   ]
  },
  {
   "cell_type": "code",
   "execution_count": 9,
   "metadata": {},
   "outputs": [
    {
     "data": {
      "text/plain": [
       "[<div class=\"search-item-specialty\" data-reactid=\".1fy2aoe824i.3:$2139668.3\"><a data-reactid=\".1fy2aoe824i.3:$2139668.3.0\" href=\"/best-doctors/?specialty=family-gp\">Family Doctor / G.P.</a></div>,\n",
       " <div class=\"search-item-specialty\" data-reactid=\".1fy2aoe824i.3:$2075115.3\"><a data-reactid=\".1fy2aoe824i.3:$2075115.3.0\" href=\"/best-doctors/?specialty=family-gp\">Family Doctor / G.P.</a></div>,\n",
       " <div class=\"search-item-specialty\" data-reactid=\".1fy2aoe824i.3:$432370.3\"><a data-reactid=\".1fy2aoe824i.3:$432370.3.0\" href=\"/best-doctors/?specialty=family-gp\">Family Doctor / G.P.</a></div>,\n",
       " <div class=\"search-item-specialty\" data-reactid=\".1fy2aoe824i.3:$1756511.3\"><a data-reactid=\".1fy2aoe824i.3:$1756511.3.0\" href=\"/best-doctors/?specialty=family-gp\">Family Doctor / G.P.</a></div>,\n",
       " <div class=\"search-item-specialty\" data-reactid=\".1fy2aoe824i.3:$1951898.3\"><a data-reactid=\".1fy2aoe824i.3:$1951898.3.0\" href=\"/best-doctors/?specialty=family-gp\">Family Doctor / G.P.</a></div>]"
      ]
     },
     "execution_count": 9,
     "metadata": {},
     "output_type": "execute_result"
    }
   ],
   "source": [
    "#Pull the Doctor Specialty HTML in the form of list\n",
    "doctor_specialty=summary.findAll('div',{'class':'search-item-specialty'})\n",
    "doctor_specialty[:5]"
   ]
  },
  {
   "cell_type": "markdown",
   "metadata": {},
   "source": [
    "Now, we'll extract the Doctor Specialty from the above result. It would be same values as we are currently extracting only for one particular Specialty."
   ]
  },
  {
   "cell_type": "code",
   "execution_count": 18,
   "metadata": {},
   "outputs": [
    {
     "data": {
      "text/plain": [
       "['Family Doctor / G.P.',\n",
       " 'Family Doctor / G.P.',\n",
       " 'Family Doctor / G.P.',\n",
       " 'Family Doctor / G.P.',\n",
       " 'Family Doctor / G.P.']"
      ]
     },
     "execution_count": 18,
     "metadata": {},
     "output_type": "execute_result"
    }
   ],
   "source": [
    "#Extract the Doctor Specialty from the list\n",
    "dr_specialty=[]\n",
    "for specialty in doctor_specialty:\n",
    "    dr_specialty.append(specialty.text)\n",
    "dr_specialty[5:]"
   ]
  },
  {
   "cell_type": "markdown",
   "metadata": {},
   "source": [
    "3. Star Rating"
   ]
  },
  {
   "cell_type": "markdown",
   "metadata": {},
   "source": [
    "We'll find the tag for Star Rating similar to what we did for above two"
   ]
  },
  {
   "cell_type": "code",
   "execution_count": 23,
   "metadata": {
    "scrolled": true
   },
   "outputs": [
    {
     "data": {
      "text/plain": [
       "[<span class=\"star-rating\" data-reactid=\".1fy2aoe824i.3:$2139668.4.0.0\" title=\"4.96\"><span class=\"stars\" data-reactid=\".1fy2aoe824i.3:$2139668.4.0.0.0\"><span class=\"star selected\" data-reactid=\".1fy2aoe824i.3:$2139668.4.0.0.0.$5\"></span><span class=\"star selected\" data-reactid=\".1fy2aoe824i.3:$2139668.4.0.0.0.$4\"></span><span class=\"star selected\" data-reactid=\".1fy2aoe824i.3:$2139668.4.0.0.0.$3\"></span><span class=\"star selected\" data-reactid=\".1fy2aoe824i.3:$2139668.4.0.0.0.$2\"></span><span class=\"star selected\" data-reactid=\".1fy2aoe824i.3:$2139668.4.0.0.0.$1\"></span></span></span>,\n",
       " <span class=\"star-rating\" data-reactid=\".1fy2aoe824i.3:$2075115.4.0.0\" title=\"4.99\"><span class=\"stars\" data-reactid=\".1fy2aoe824i.3:$2075115.4.0.0.0\"><span class=\"star selected\" data-reactid=\".1fy2aoe824i.3:$2075115.4.0.0.0.$5\"></span><span class=\"star selected\" data-reactid=\".1fy2aoe824i.3:$2075115.4.0.0.0.$4\"></span><span class=\"star selected\" data-reactid=\".1fy2aoe824i.3:$2075115.4.0.0.0.$3\"></span><span class=\"star selected\" data-reactid=\".1fy2aoe824i.3:$2075115.4.0.0.0.$2\"></span><span class=\"star selected\" data-reactid=\".1fy2aoe824i.3:$2075115.4.0.0.0.$1\"></span></span></span>,\n",
       " <span class=\"star-rating\" data-reactid=\".1fy2aoe824i.3:$432370.4.0.0\" title=\"4.98\"><span class=\"stars\" data-reactid=\".1fy2aoe824i.3:$432370.4.0.0.0\"><span class=\"star selected\" data-reactid=\".1fy2aoe824i.3:$432370.4.0.0.0.$5\"></span><span class=\"star selected\" data-reactid=\".1fy2aoe824i.3:$432370.4.0.0.0.$4\"></span><span class=\"star selected\" data-reactid=\".1fy2aoe824i.3:$432370.4.0.0.0.$3\"></span><span class=\"star selected\" data-reactid=\".1fy2aoe824i.3:$432370.4.0.0.0.$2\"></span><span class=\"star selected\" data-reactid=\".1fy2aoe824i.3:$432370.4.0.0.0.$1\"></span></span></span>,\n",
       " <span class=\"star-rating\" data-reactid=\".1fy2aoe824i.3:$1756511.4.0.0\" title=\"4.95\"><span class=\"stars\" data-reactid=\".1fy2aoe824i.3:$1756511.4.0.0.0\"><span class=\"star selected\" data-reactid=\".1fy2aoe824i.3:$1756511.4.0.0.0.$5\"></span><span class=\"star selected\" data-reactid=\".1fy2aoe824i.3:$1756511.4.0.0.0.$4\"></span><span class=\"star selected\" data-reactid=\".1fy2aoe824i.3:$1756511.4.0.0.0.$3\"></span><span class=\"star selected\" data-reactid=\".1fy2aoe824i.3:$1756511.4.0.0.0.$2\"></span><span class=\"star selected\" data-reactid=\".1fy2aoe824i.3:$1756511.4.0.0.0.$1\"></span></span></span>,\n",
       " <span class=\"star-rating\" data-reactid=\".1fy2aoe824i.3:$1951898.4.0.0\" title=\"4.91\"><span class=\"stars\" data-reactid=\".1fy2aoe824i.3:$1951898.4.0.0.0\"><span class=\"star selected\" data-reactid=\".1fy2aoe824i.3:$1951898.4.0.0.0.$5\"></span><span class=\"star selected\" data-reactid=\".1fy2aoe824i.3:$1951898.4.0.0.0.$4\"></span><span class=\"star selected\" data-reactid=\".1fy2aoe824i.3:$1951898.4.0.0.0.$3\"></span><span class=\"star selected\" data-reactid=\".1fy2aoe824i.3:$1951898.4.0.0.0.$2\"></span><span class=\"star selected\" data-reactid=\".1fy2aoe824i.3:$1951898.4.0.0.0.$1\"></span></span></span>,\n",
       " <span class=\"star-rating\" data-reactid=\".1fy2aoe824i.3:$661560.4.0.0\" title=\"4.95\"><span class=\"stars\" data-reactid=\".1fy2aoe824i.3:$661560.4.0.0.0\"><span class=\"star selected\" data-reactid=\".1fy2aoe824i.3:$661560.4.0.0.0.$5\"></span><span class=\"star selected\" data-reactid=\".1fy2aoe824i.3:$661560.4.0.0.0.$4\"></span><span class=\"star selected\" data-reactid=\".1fy2aoe824i.3:$661560.4.0.0.0.$3\"></span><span class=\"star selected\" data-reactid=\".1fy2aoe824i.3:$661560.4.0.0.0.$2\"></span><span class=\"star selected\" data-reactid=\".1fy2aoe824i.3:$661560.4.0.0.0.$1\"></span></span></span>,\n",
       " <span class=\"star-rating\" data-reactid=\".1fy2aoe824i.3:$728969.4.0.0\" title=\"4.94\"><span class=\"stars\" data-reactid=\".1fy2aoe824i.3:$728969.4.0.0.0\"><span class=\"star selected\" data-reactid=\".1fy2aoe824i.3:$728969.4.0.0.0.$5\"></span><span class=\"star selected\" data-reactid=\".1fy2aoe824i.3:$728969.4.0.0.0.$4\"></span><span class=\"star selected\" data-reactid=\".1fy2aoe824i.3:$728969.4.0.0.0.$3\"></span><span class=\"star selected\" data-reactid=\".1fy2aoe824i.3:$728969.4.0.0.0.$2\"></span><span class=\"star selected\" data-reactid=\".1fy2aoe824i.3:$728969.4.0.0.0.$1\"></span></span></span>,\n",
       " <span class=\"star-rating\" data-reactid=\".1fy2aoe824i.3:$1756518.4.0.0\" title=\"4.94\"><span class=\"stars\" data-reactid=\".1fy2aoe824i.3:$1756518.4.0.0.0\"><span class=\"star selected\" data-reactid=\".1fy2aoe824i.3:$1756518.4.0.0.0.$5\"></span><span class=\"star selected\" data-reactid=\".1fy2aoe824i.3:$1756518.4.0.0.0.$4\"></span><span class=\"star selected\" data-reactid=\".1fy2aoe824i.3:$1756518.4.0.0.0.$3\"></span><span class=\"star selected\" data-reactid=\".1fy2aoe824i.3:$1756518.4.0.0.0.$2\"></span><span class=\"star selected\" data-reactid=\".1fy2aoe824i.3:$1756518.4.0.0.0.$1\"></span></span></span>,\n",
       " <span class=\"star-rating\" data-reactid=\".1fy2aoe824i.3:$724656.4.0.0\" title=\"4.94\"><span class=\"stars\" data-reactid=\".1fy2aoe824i.3:$724656.4.0.0.0\"><span class=\"star selected\" data-reactid=\".1fy2aoe824i.3:$724656.4.0.0.0.$5\"></span><span class=\"star selected\" data-reactid=\".1fy2aoe824i.3:$724656.4.0.0.0.$4\"></span><span class=\"star selected\" data-reactid=\".1fy2aoe824i.3:$724656.4.0.0.0.$3\"></span><span class=\"star selected\" data-reactid=\".1fy2aoe824i.3:$724656.4.0.0.0.$2\"></span><span class=\"star selected\" data-reactid=\".1fy2aoe824i.3:$724656.4.0.0.0.$1\"></span></span></span>,\n",
       " <span class=\"star-rating\" data-reactid=\".1fy2aoe824i.3:$1997836.4.0.0\" title=\"4.94\"><span class=\"stars\" data-reactid=\".1fy2aoe824i.3:$1997836.4.0.0.0\"><span class=\"star selected\" data-reactid=\".1fy2aoe824i.3:$1997836.4.0.0.0.$5\"></span><span class=\"star selected\" data-reactid=\".1fy2aoe824i.3:$1997836.4.0.0.0.$4\"></span><span class=\"star selected\" data-reactid=\".1fy2aoe824i.3:$1997836.4.0.0.0.$3\"></span><span class=\"star selected\" data-reactid=\".1fy2aoe824i.3:$1997836.4.0.0.0.$2\"></span><span class=\"star selected\" data-reactid=\".1fy2aoe824i.3:$1997836.4.0.0.0.$1\"></span></span></span>]"
      ]
     },
     "execution_count": 23,
     "metadata": {},
     "output_type": "execute_result"
    }
   ],
   "source": [
    "#Extracting Star Rating\n",
    "doctor_star_rating=summary.findAll('span',{'class':'star-rating'})\n",
    "doctor_star_rating"
   ]
  },
  {
   "cell_type": "markdown",
   "metadata": {},
   "source": [
    "Here the star rating is not available in the form of the text in a tag.Instead its located inside an attribute of the tag. We need to extract the value from the attribute. To do this, we need to understand how do we treat this tag. So, beautiful soup allows us to treat the tags as a dictionary where each attribute corresponds to a key. So, here we will be extracting value from the attribute 'title'."
   ]
  },
  {
   "cell_type": "code",
   "execution_count": 26,
   "metadata": {
    "collapsed": true
   },
   "outputs": [
    {
     "data": {
      "text/plain": [
       "['4.96',\n",
       " '4.99',\n",
       " '4.98',\n",
       " '4.95',\n",
       " '4.91',\n",
       " '4.95',\n",
       " '4.94',\n",
       " '4.94',\n",
       " '4.94',\n",
       " '4.94']"
      ]
     },
     "execution_count": 26,
     "metadata": {},
     "output_type": "execute_result"
    }
   ],
   "source": [
    "dr_star_rating=[]\n",
    "for stars in range(0,len(doctor_star_rating)):\n",
    "    dr_star_rating.append(doctor_star_rating[stars]['title'])\n",
    "dr_star_rating"
   ]
  },
  {
   "cell_type": "markdown",
   "metadata": {},
   "source": [
    "4. No. of reviews"
   ]
  },
  {
   "cell_type": "markdown",
   "metadata": {},
   "source": [
    "Finally, we'll extract our last required column i.e the no. of reviews provided for each doctor."
   ]
  },
  {
   "cell_type": "code",
   "execution_count": 14,
   "metadata": {
    "collapsed": true
   },
   "outputs": [
    {
     "data": {
      "text/plain": [
       "[<div class=\"star-rating-count\" data-reactid=\".i9tnaeafxq.3:$2139668.4.0.1\"><span data-reactid=\".i9tnaeafxq.3:$2139668.4.0.1.0\">151</span><span data-reactid=\".i9tnaeafxq.3:$2139668.4.0.1.1\"> reviews</span></div>,\n",
       " <div class=\"star-rating-count\" data-reactid=\".i9tnaeafxq.3:$2075115.4.0.1\"><span data-reactid=\".i9tnaeafxq.3:$2075115.4.0.1.0\">82</span><span data-reactid=\".i9tnaeafxq.3:$2075115.4.0.1.1\"> reviews</span></div>,\n",
       " <div class=\"star-rating-count\" data-reactid=\".i9tnaeafxq.3:$432370.4.0.1\"><span data-reactid=\".i9tnaeafxq.3:$432370.4.0.1.0\">91</span><span data-reactid=\".i9tnaeafxq.3:$432370.4.0.1.1\"> reviews</span></div>,\n",
       " <div class=\"star-rating-count\" data-reactid=\".i9tnaeafxq.3:$1756511.4.0.1\"><span data-reactid=\".i9tnaeafxq.3:$1756511.4.0.1.0\">131</span><span data-reactid=\".i9tnaeafxq.3:$1756511.4.0.1.1\"> reviews</span></div>,\n",
       " <div class=\"star-rating-count\" data-reactid=\".i9tnaeafxq.3:$1951898.4.0.1\"><span data-reactid=\".i9tnaeafxq.3:$1951898.4.0.1.0\">331</span><span data-reactid=\".i9tnaeafxq.3:$1951898.4.0.1.1\"> reviews</span></div>,\n",
       " <div class=\"star-rating-count\" data-reactid=\".i9tnaeafxq.3:$661560.4.0.1\"><span data-reactid=\".i9tnaeafxq.3:$661560.4.0.1.0\">130</span><span data-reactid=\".i9tnaeafxq.3:$661560.4.0.1.1\"> reviews</span></div>,\n",
       " <div class=\"star-rating-count\" data-reactid=\".i9tnaeafxq.3:$728969.4.0.1\"><span data-reactid=\".i9tnaeafxq.3:$728969.4.0.1.0\">147</span><span data-reactid=\".i9tnaeafxq.3:$728969.4.0.1.1\"> reviews</span></div>,\n",
       " <div class=\"star-rating-count\" data-reactid=\".i9tnaeafxq.3:$1756518.4.0.1\"><span data-reactid=\".i9tnaeafxq.3:$1756518.4.0.1.0\">146</span><span data-reactid=\".i9tnaeafxq.3:$1756518.4.0.1.1\"> reviews</span></div>,\n",
       " <div class=\"star-rating-count\" data-reactid=\".i9tnaeafxq.3:$724656.4.0.1\"><span data-reactid=\".i9tnaeafxq.3:$724656.4.0.1.0\">152</span><span data-reactid=\".i9tnaeafxq.3:$724656.4.0.1.1\"> reviews</span></div>,\n",
       " <div class=\"star-rating-count\" data-reactid=\".i9tnaeafxq.3:$1997836.4.0.1\"><span data-reactid=\".i9tnaeafxq.3:$1997836.4.0.1.0\">141</span><span data-reactid=\".i9tnaeafxq.3:$1997836.4.0.1.1\"> reviews</span></div>]"
      ]
     },
     "execution_count": 14,
     "metadata": {},
     "output_type": "execute_result"
    }
   ],
   "source": [
    "#extract Doctor_reviews\n",
    "doctor_reviews=summary.findAll('div',{'class':'star-rating-count'})\n",
    "doctor_reviews"
   ]
  },
  {
   "cell_type": "markdown",
   "metadata": {},
   "source": [
    "Here, we can observe that text data in the tag is in the form 'count reviews'. Eg. '156 Reviews'. But, we only need the number and not the text 'Reviews'. So, we'll split the entire text and only take the numeric value."
   ]
  },
  {
   "cell_type": "code",
   "execution_count": 17,
   "metadata": {
    "collapsed": true
   },
   "outputs": [
    {
     "data": {
      "text/plain": [
       "['151', '82', '91', '131', '331', '130', '147', '146', '152', '141']"
      ]
     },
     "execution_count": 17,
     "metadata": {},
     "output_type": "execute_result"
    }
   ],
   "source": [
    "dr_reviews=[]\n",
    "for rev in doctor_reviews:\n",
    "    dr_reviews.append((rev.text)[0:rev.text.find(\" \")])\n",
    "dr_reviews"
   ]
  },
  {
   "cell_type": "markdown",
   "metadata": {},
   "source": [
    "Now, we will combine all these lists into dataframes. There are many ways to do this. Here, I converted the lists into series first and then joined it into dataframe. Another way would be to combine the lists into a data frame using dictionaries."
   ]
  },
  {
   "cell_type": "code",
   "execution_count": 18,
   "metadata": {},
   "outputs": [],
   "source": [
    "#Create Series of all the lists\n",
    "dr_name=Series(dr_name)\n",
    "dr_specialty=Series(dr_specialty)\n",
    "dr_star_rating=Series(dr_star_rating)\n",
    "dr_reviews=Series(dr_reviews)"
   ]
  },
  {
   "cell_type": "code",
   "execution_count": 19,
   "metadata": {
    "collapsed": true
   },
   "outputs": [
    {
     "data": {
      "text/html": [
       "<div>\n",
       "<style scoped>\n",
       "    .dataframe tbody tr th:only-of-type {\n",
       "        vertical-align: middle;\n",
       "    }\n",
       "\n",
       "    .dataframe tbody tr th {\n",
       "        vertical-align: top;\n",
       "    }\n",
       "\n",
       "    .dataframe thead th {\n",
       "        text-align: right;\n",
       "    }\n",
       "</style>\n",
       "<table border=\"1\" class=\"dataframe\">\n",
       "  <thead>\n",
       "    <tr style=\"text-align: right;\">\n",
       "      <th></th>\n",
       "      <th>Doctor Name</th>\n",
       "      <th>Specialty</th>\n",
       "      <th>Rating</th>\n",
       "      <th>No. of Reviews</th>\n",
       "    </tr>\n",
       "  </thead>\n",
       "  <tbody>\n",
       "    <tr>\n",
       "      <th>0</th>\n",
       "      <td>Dr. Anna Becker</td>\n",
       "      <td>Family Doctor / G.P.</td>\n",
       "      <td>4.96</td>\n",
       "      <td>151</td>\n",
       "    </tr>\n",
       "    <tr>\n",
       "      <th>1</th>\n",
       "      <td>Dr. Frances P. Wong</td>\n",
       "      <td>Family Doctor / G.P.</td>\n",
       "      <td>4.99</td>\n",
       "      <td>82</td>\n",
       "    </tr>\n",
       "    <tr>\n",
       "      <th>2</th>\n",
       "      <td>Dr. Lewis Mitchell</td>\n",
       "      <td>Family Doctor / G.P.</td>\n",
       "      <td>4.98</td>\n",
       "      <td>91</td>\n",
       "    </tr>\n",
       "    <tr>\n",
       "      <th>3</th>\n",
       "      <td>Dr. Kevin Little</td>\n",
       "      <td>Family Doctor / G.P.</td>\n",
       "      <td>4.95</td>\n",
       "      <td>131</td>\n",
       "    </tr>\n",
       "    <tr>\n",
       "      <th>4</th>\n",
       "      <td>Dr. Mitch Freeman</td>\n",
       "      <td>Family Doctor / G.P.</td>\n",
       "      <td>4.91</td>\n",
       "      <td>331</td>\n",
       "    </tr>\n",
       "    <tr>\n",
       "      <th>5</th>\n",
       "      <td>Dr. Kimberlee Shaw</td>\n",
       "      <td>Family Doctor / G.P.</td>\n",
       "      <td>4.95</td>\n",
       "      <td>130</td>\n",
       "    </tr>\n",
       "    <tr>\n",
       "      <th>6</th>\n",
       "      <td>Dr. Elizabeth S. Barnes</td>\n",
       "      <td>Family Doctor / G.P.</td>\n",
       "      <td>4.94</td>\n",
       "      <td>147</td>\n",
       "    </tr>\n",
       "    <tr>\n",
       "      <th>7</th>\n",
       "      <td>Dr. William R. Harris</td>\n",
       "      <td>Family Doctor / G.P.</td>\n",
       "      <td>4.94</td>\n",
       "      <td>146</td>\n",
       "    </tr>\n",
       "    <tr>\n",
       "      <th>8</th>\n",
       "      <td>Dr. Sharon A. Wolters</td>\n",
       "      <td>Family Doctor / G.P.</td>\n",
       "      <td>4.94</td>\n",
       "      <td>152</td>\n",
       "    </tr>\n",
       "    <tr>\n",
       "      <th>9</th>\n",
       "      <td>Dr. Cynthia White</td>\n",
       "      <td>Family Doctor / G.P.</td>\n",
       "      <td>4.94</td>\n",
       "      <td>141</td>\n",
       "    </tr>\n",
       "  </tbody>\n",
       "</table>\n",
       "</div>"
      ],
      "text/plain": [
       "               Doctor Name             Specialty Rating No. of Reviews\n",
       "0          Dr. Anna Becker  Family Doctor / G.P.   4.96            151\n",
       "1      Dr. Frances P. Wong  Family Doctor / G.P.   4.99             82\n",
       "2       Dr. Lewis Mitchell  Family Doctor / G.P.   4.98             91\n",
       "3         Dr. Kevin Little  Family Doctor / G.P.   4.95            131\n",
       "4        Dr. Mitch Freeman  Family Doctor / G.P.   4.91            331\n",
       "5       Dr. Kimberlee Shaw  Family Doctor / G.P.   4.95            130\n",
       "6  Dr. Elizabeth S. Barnes  Family Doctor / G.P.   4.94            147\n",
       "7    Dr. William R. Harris  Family Doctor / G.P.   4.94            146\n",
       "8    Dr. Sharon A. Wolters  Family Doctor / G.P.   4.94            152\n",
       "9        Dr. Cynthia White  Family Doctor / G.P.   4.94            141"
      ]
     },
     "execution_count": 19,
     "metadata": {},
     "output_type": "execute_result"
    }
   ],
   "source": [
    "#Create a Dataframe\n",
    "family_df=pd.concat([dr_name,dr_specialty,dr_star_rating,dr_reviews],axis=1)\n",
    "#Name the columns\n",
    "family_df.columns=['Doctor Name','Specialty','Rating','No. of Reviews']\n",
    "family_df"
   ]
  },
  {
   "cell_type": "markdown",
   "metadata": {},
   "source": [
    "Webscraping multiple pages"
   ]
  },
  {
   "cell_type": "markdown",
   "metadata": {},
   "source": [
    "To scrape multiple pages from a website, we'll build upon whatever we did above for a single page.\n",
    "First, We need to first understand the structure of the URL i.e. exactly where is the page value changing. Here the url with page number is in the format https://www.ratemds.com/best-doctors/ny/new-york/family-gp/?page=2. So we need to change the last letter of the url to extract data from each page. For that we need to create a list having the list of pages we need to scrape."
   ]
  },
  {
   "cell_type": "code",
   "execution_count": 54,
   "metadata": {},
   "outputs": [],
   "source": [
    "url='https://www.ratemds.com/best-doctors/?specialty=family-gp&page='\n",
    "#Set pages to be scraped\n",
    "pages=[str(i) for i in range(1,5)]"
   ]
  },
  {
   "cell_type": "markdown",
   "metadata": {},
   "source": [
    "Second, we need to create variables that would help us to control and monitor the loop rate. This is done to make sure that we are not bombarding the server with our requests."
   ]
  },
  {
   "cell_type": "code",
   "execution_count": 55,
   "metadata": {},
   "outputs": [],
   "source": [
    "#Monitoring the loop\n",
    "start_time=time()\n",
    "request=0"
   ]
  },
  {
   "cell_type": "markdown",
   "metadata": {},
   "source": [
    "Now, we created empty lists which will be used to store the details of the respective doctors after scraping from the website."
   ]
  },
  {
   "cell_type": "code",
   "execution_count": 60,
   "metadata": {},
   "outputs": [],
   "source": [
    "#Create empty lists for respective values to be extracted\n",
    "dr_name_all=[]\n",
    "dr_reviews_all=[]\n",
    "dr_specialty_all=[]\n",
    "dr_star_rating_all=[]"
   ]
  },
  {
   "cell_type": "markdown",
   "metadata": {},
   "source": [
    "Below is the code which is looped, in order to combine data from all the pages. \n",
    "\n",
    "We'll be pausing the loop for a period in the range of 8 to 15 seconds after every page in order to avoid bombarding huge number of requests per second on the server. Neglecting this might lead to ban of our IP Address. Rest all the things are similar to what we did to extract data for a single page."
   ]
  },
  {
   "cell_type": "code",
   "execution_count": 61,
   "metadata": {},
   "outputs": [
    {
     "name": "stdout",
     "output_type": "stream",
     "text": [
      "Requests: 5; Frequency: 0.012877130601245134 requests/sec\n",
      "Requests: 6; Frequency: 0.01492068350543763 requests/sec\n",
      "Requests: 7; Frequency: 0.016905420779806418 requests/sec\n",
      "Requests: 8; Frequency: 0.018812133237574673 requests/sec\n"
     ]
    }
   ],
   "source": [
    "for page in pages:\n",
    "    \n",
    "    #Make a get request\n",
    "    response=get(url+ page)\n",
    "    \n",
    "    #Pause the loop\n",
    "    sleep(randint(8,15))\n",
    "    \n",
    "    #Monitor the requests\n",
    "    request+=1\n",
    "    elapsed_time=time()-start_time\n",
    "    print('Requests: {}; Frequency: {} requests/sec'.format(request, request/elapsed_time))\n",
    "#     clear_output(wait=True)\n",
    "    \n",
    "    #Empty the contents into usable format\n",
    "    soup=BeautifulSoup(response.content,\"lxml\")\n",
    "    \n",
    "    #Select the container having all the doctor details\n",
    "    summary=soup.find('div',{'id':'doctor-list'})\n",
    "    \n",
    "    #Extract doctor names\n",
    "    doctor_name=summary.findAll('a',{'class':'search-item-doctor-link'})\n",
    "    for name in doctor_name:\n",
    "        dr_name_all.append(name.text)\n",
    "    \n",
    "    #Extract doctor specialty\n",
    "    doctor_specialty=summary.findAll('div',{'class':'search-item-specialty'})\n",
    "    for specialty in doctor_specialty:\n",
    "        dr_specialty_all.append(specialty.text)\n",
    "    \n",
    "    #Extracting star rating\n",
    "    doctor_star_rating=summary.findAll('span',{'class':'star-rating'})\n",
    "    for stars in range(0,len(doctor_star_rating)):\n",
    "        dr_star_rating_all.append(doctor_star_rating[stars]['title'])\n",
    "    \n",
    "    #Extracting no. of reviews\n",
    "    doctor_reviews=summary.findAll('div',{'class':'star-rating-count'})\n",
    "    for reviews in doctor_reviews:\n",
    "        dr_reviews_all.append((reviews.text)[0:(reviews.text).find(\" \")])"
   ]
  },
  {
   "cell_type": "code",
   "execution_count": 68,
   "metadata": {},
   "outputs": [
    {
     "data": {
      "text/plain": [
       "['151', '82', '91', '131', '331']"
      ]
     },
     "execution_count": 68,
     "metadata": {},
     "output_type": "execute_result"
    }
   ],
   "source": [
    "dr_reviews_all[:5]"
   ]
  },
  {
   "cell_type": "code",
   "execution_count": 72,
   "metadata": {},
   "outputs": [],
   "source": [
    "#Make series of all lists\n",
    "dr_name=Series(dr_name_all)\n",
    "dr_reviews=Series(dr_reviews_all)\n",
    "dr_specialty=Series(dr_specialty_all)\n",
    "dr_star_rating=Series(dr_star_rating_all)"
   ]
  },
  {
   "cell_type": "code",
   "execution_count": 78,
   "metadata": {},
   "outputs": [
    {
     "data": {
      "text/html": [
       "<div>\n",
       "<style scoped>\n",
       "    .dataframe tbody tr th:only-of-type {\n",
       "        vertical-align: middle;\n",
       "    }\n",
       "\n",
       "    .dataframe tbody tr th {\n",
       "        vertical-align: top;\n",
       "    }\n",
       "\n",
       "    .dataframe thead th {\n",
       "        text-align: right;\n",
       "    }\n",
       "</style>\n",
       "<table border=\"1\" class=\"dataframe\">\n",
       "  <thead>\n",
       "    <tr style=\"text-align: right;\">\n",
       "      <th></th>\n",
       "      <th>Doctor Name</th>\n",
       "      <th>Specialty</th>\n",
       "      <th>Rating</th>\n",
       "      <th>No. of Reviews</th>\n",
       "    </tr>\n",
       "  </thead>\n",
       "  <tbody>\n",
       "    <tr>\n",
       "      <th>0</th>\n",
       "      <td>Dr. Anna Becker</td>\n",
       "      <td>Family Doctor / G.P.</td>\n",
       "      <td>4.96</td>\n",
       "      <td>151</td>\n",
       "    </tr>\n",
       "    <tr>\n",
       "      <th>1</th>\n",
       "      <td>Dr. Frances P. Wong</td>\n",
       "      <td>Family Doctor / G.P.</td>\n",
       "      <td>4.99</td>\n",
       "      <td>82</td>\n",
       "    </tr>\n",
       "    <tr>\n",
       "      <th>2</th>\n",
       "      <td>Dr. Lewis Mitchell</td>\n",
       "      <td>Family Doctor / G.P.</td>\n",
       "      <td>4.98</td>\n",
       "      <td>91</td>\n",
       "    </tr>\n",
       "    <tr>\n",
       "      <th>3</th>\n",
       "      <td>Dr. Kevin Little</td>\n",
       "      <td>Family Doctor / G.P.</td>\n",
       "      <td>4.95</td>\n",
       "      <td>131</td>\n",
       "    </tr>\n",
       "    <tr>\n",
       "      <th>4</th>\n",
       "      <td>Dr. Mitch Freeman</td>\n",
       "      <td>Family Doctor / G.P.</td>\n",
       "      <td>4.91</td>\n",
       "      <td>331</td>\n",
       "    </tr>\n",
       "  </tbody>\n",
       "</table>\n",
       "</div>"
      ],
      "text/plain": [
       "           Doctor Name             Specialty Rating No. of Reviews\n",
       "0      Dr. Anna Becker  Family Doctor / G.P.   4.96            151\n",
       "1  Dr. Frances P. Wong  Family Doctor / G.P.   4.99             82\n",
       "2   Dr. Lewis Mitchell  Family Doctor / G.P.   4.98             91\n",
       "3     Dr. Kevin Little  Family Doctor / G.P.   4.95            131\n",
       "4    Dr. Mitch Freeman  Family Doctor / G.P.   4.91            331"
      ]
     },
     "execution_count": 78,
     "metadata": {},
     "output_type": "execute_result"
    }
   ],
   "source": [
    "#Create a dataframe and save it to a .csv file\n",
    "family_df=pd.concat([dr_name, dr_specialty, dr_star_rating, dr_reviews],axis=1,ignore_index=True)\n",
    "family_df.columns=['Doctor Name','Specialty', 'Rating','No. of Reviews']\n",
    "family_df.to_csv('RateMDs-Family-G.Ps.csv')\n",
    "family_df.head()"
   ]
  }
 ],
 "metadata": {
  "kernelspec": {
   "display_name": "Python 3",
   "language": "python",
   "name": "python3"
  },
  "language_info": {
   "codemirror_mode": {
    "name": "ipython",
    "version": 3
   },
   "file_extension": ".py",
   "mimetype": "text/x-python",
   "name": "python",
   "nbconvert_exporter": "python",
   "pygments_lexer": "ipython3",
   "version": "3.6.5"
  },
  "widgets": {
   "application/vnd.jupyter.widget-state+json": {
    "state": {},
    "version_major": 2,
    "version_minor": 0
   }
  }
 },
 "nbformat": 4,
 "nbformat_minor": 2
}
